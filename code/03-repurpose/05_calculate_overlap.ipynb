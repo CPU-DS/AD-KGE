{
 "cells": [
  {
   "cell_type": "code",
   "execution_count": 1,
   "id": "43cdda6f",
   "metadata": {},
   "outputs": [],
   "source": [
    "# 05_calculate_overlap\n",
    "#\n",
    "# created by LuYF-Lemon-love <luyanfeng_nlp@qq.com> on March 5, 2023\n",
    "# updated by LuYF-Lemon-love <luyanfeng_nlp@qq.com> on March 11, 2023\n",
    "#\n",
    "# 该脚本计算了四个个预训练模型 (TransE 和 RotatE) 药物重定位 (Alzheimer's disease) 结果重叠情况.\n",
    "#\n",
    "# 需要的包:\n",
    "#          csv\n",
    "#\n",
    "# 需要的文件:\n",
    "#          ./results/01_transE_l1_top50.csv\n",
    "#          ./results/02_transE_l2_top50.csv\n",
    "#          ./results/03_ComplEx_top50.csv\n",
    "#          ./results/04_rotatE_top50.csv"
   ]
  },
  {
   "cell_type": "markdown",
   "id": "a046a1dc",
   "metadata": {},
   "source": [
    "## TransE_l1 top50 结果"
   ]
  },
  {
   "cell_type": "code",
   "execution_count": 2,
   "id": "df7ba911",
   "metadata": {},
   "outputs": [],
   "source": [
    "import csv\n",
    "\n",
    "transE_l1_top50 = []\n",
    "with open(\"./results/01_transE_l1_top50.csv\", newline='', encoding='utf-8') as csvfile:\n",
    "    reader = csv.DictReader(csvfile, delimiter=',', fieldnames=['rank', 'drug', 'score'])\n",
    "    for row_val in reader:\n",
    "        transE_l1_top50.append(row_val['drug'])"
   ]
  },
  {
   "cell_type": "code",
   "execution_count": 3,
   "id": "52d0958a",
   "metadata": {},
   "outputs": [
    {
     "data": {
      "text/plain": [
       "['Compound::DB04216',\n",
       " 'Compound::DB06774',\n",
       " 'Compound::DB00783',\n",
       " 'Compound::DB00295',\n",
       " 'Compound::DB09341',\n",
       " 'Compound::DB00143',\n",
       " 'Compound::DB00363',\n",
       " 'Compound::DB04540',\n",
       " 'Compound::DB00907',\n",
       " 'Compound::DB00917',\n",
       " 'Compound::DB00661',\n",
       " 'Compound::DB01026',\n",
       " 'Compound::DB01183',\n",
       " 'Compound::DB01320',\n",
       " 'Compound::DB00252',\n",
       " 'Compound::DB00624',\n",
       " 'Compound::DB01223',\n",
       " 'Compound::DB00477',\n",
       " 'Compound::DB00563']"
      ]
     },
     "execution_count": 3,
     "metadata": {},
     "output_type": "execute_result"
    }
   ],
   "source": [
    "transE_l1_top50"
   ]
  },
  {
   "cell_type": "code",
   "execution_count": 4,
   "id": "f032c7c5",
   "metadata": {},
   "outputs": [
    {
     "data": {
      "text/plain": [
       "19"
      ]
     },
     "execution_count": 4,
     "metadata": {},
     "output_type": "execute_result"
    }
   ],
   "source": [
    "len(transE_l1_top50)"
   ]
  },
  {
   "cell_type": "markdown",
   "id": "05668e89",
   "metadata": {},
   "source": [
    "## TransE_l2 top50 结果¶"
   ]
  },
  {
   "cell_type": "code",
   "execution_count": 5,
   "id": "0d8b7e42",
   "metadata": {},
   "outputs": [],
   "source": [
    "import csv\n",
    "\n",
    "transE_l2_top50 = []\n",
    "with open(\"./results/02_transE_l2_top50.csv\", newline='', encoding='utf-8') as csvfile:\n",
    "    reader = csv.DictReader(csvfile, delimiter=',', fieldnames=['rank', 'drug', 'score'])\n",
    "    for row_val in reader:\n",
    "        transE_l2_top50.append(row_val['drug'])"
   ]
  },
  {
   "cell_type": "code",
   "execution_count": 6,
   "id": "227c87d4",
   "metadata": {},
   "outputs": [
    {
     "data": {
      "text/plain": [
       "['Compound::DB04540',\n",
       " 'Compound::DB09341',\n",
       " 'Compound::DB00143',\n",
       " 'Compound::DB00515',\n",
       " 'Compound::DB00997',\n",
       " 'Compound::DB00171',\n",
       " 'Compound::DB01229',\n",
       " 'Compound::DB00477',\n",
       " 'Compound::DB00755',\n",
       " 'Compound::DB00502',\n",
       " 'Compound::DB00783',\n",
       " 'Compound::DB00295',\n",
       " 'Compound::DB00661',\n",
       " 'Compound::DB00675',\n",
       " 'Compound::DB00624',\n",
       " 'Compound::DB00363',\n",
       " 'Compound::DB12153',\n",
       " 'Compound::DB01708',\n",
       " 'Compound::DB00541',\n",
       " 'Compound::DB00959',\n",
       " 'Compound::DB00396',\n",
       " 'Compound::DB00907',\n",
       " 'Compound::DB04216',\n",
       " 'Compound::DB00531']"
      ]
     },
     "execution_count": 6,
     "metadata": {},
     "output_type": "execute_result"
    }
   ],
   "source": [
    "transE_l2_top50"
   ]
  },
  {
   "cell_type": "code",
   "execution_count": 7,
   "id": "f38362a0",
   "metadata": {},
   "outputs": [
    {
     "data": {
      "text/plain": [
       "24"
      ]
     },
     "execution_count": 7,
     "metadata": {},
     "output_type": "execute_result"
    }
   ],
   "source": [
    "len(transE_l2_top50)"
   ]
  },
  {
   "cell_type": "markdown",
   "id": "27d244bb",
   "metadata": {},
   "source": [
    "## ComplEx top50 结果"
   ]
  },
  {
   "cell_type": "code",
   "execution_count": 8,
   "id": "e222d2d6",
   "metadata": {},
   "outputs": [],
   "source": [
    "import csv\n",
    "\n",
    "ComplEx_top50 = []\n",
    "with open(\"./results/03_ComplEx_top50.csv\", newline='', encoding='utf-8') as csvfile:\n",
    "    reader = csv.DictReader(csvfile, delimiter=',', fieldnames=['rank', 'drug', 'score'])\n",
    "    for row_val in reader:\n",
    "        ComplEx_top50.append(row_val['drug'])"
   ]
  },
  {
   "cell_type": "code",
   "execution_count": 9,
   "id": "3201b272",
   "metadata": {},
   "outputs": [
    {
     "data": {
      "text/plain": [
       "['Compound::DB00715',\n",
       " 'Compound::DB00661',\n",
       " 'Compound::DB08860',\n",
       " 'Compound::DB00959',\n",
       " 'Compound::DB01118',\n",
       " 'Compound::DB08868',\n",
       " 'Compound::DB06287',\n",
       " 'Compound::DB00175',\n",
       " 'Compound::DB00563',\n",
       " 'Compound::DB00759',\n",
       " 'Compound::DB00381']"
      ]
     },
     "execution_count": 9,
     "metadata": {},
     "output_type": "execute_result"
    }
   ],
   "source": [
    "ComplEx_top50"
   ]
  },
  {
   "cell_type": "code",
   "execution_count": 10,
   "id": "911c377b",
   "metadata": {},
   "outputs": [
    {
     "data": {
      "text/plain": [
       "11"
      ]
     },
     "execution_count": 10,
     "metadata": {},
     "output_type": "execute_result"
    }
   ],
   "source": [
    "len(ComplEx_top50)"
   ]
  },
  {
   "cell_type": "markdown",
   "id": "65fecf33",
   "metadata": {},
   "source": [
    "## RotatE top50 结果"
   ]
  },
  {
   "cell_type": "code",
   "execution_count": 11,
   "id": "3db6591f",
   "metadata": {},
   "outputs": [],
   "source": [
    "rotatE_top50 = []\n",
    "rotatE_top50_ranks = []\n",
    "with open(\"./results/04_rotatE_top50.csv\", newline='', encoding='utf-8') as csvfile:\n",
    "    reader = csv.DictReader(csvfile, delimiter=',', fieldnames=['rank', 'drug', 'score'])\n",
    "    for row_val in reader:\n",
    "        rotatE_top50_ranks.append(row_val['rank'])\n",
    "        rotatE_top50.append(row_val['drug'])"
   ]
  },
  {
   "cell_type": "code",
   "execution_count": 12,
   "id": "1de4a648",
   "metadata": {},
   "outputs": [
    {
     "data": {
      "text/plain": [
       "['Compound::DB00143',\n",
       " 'Compound::DB00502',\n",
       " 'Compound::DB06774',\n",
       " 'Compound::DB04216',\n",
       " 'Compound::DB00783',\n",
       " 'Compound::DB09341',\n",
       " 'Compound::DB00822',\n",
       " 'Compound::DB00640',\n",
       " 'Compound::DB01105',\n",
       " 'Compound::DB00715',\n",
       " 'Compound::DB00907',\n",
       " 'Compound::DB01229',\n",
       " 'Compound::DB04540',\n",
       " 'Compound::DB01016',\n",
       " 'Compound::DB02010',\n",
       " 'Compound::DB14681',\n",
       " 'Compound::DB00321']"
      ]
     },
     "execution_count": 12,
     "metadata": {},
     "output_type": "execute_result"
    }
   ],
   "source": [
    "rotatE_top50"
   ]
  },
  {
   "cell_type": "code",
   "execution_count": 13,
   "id": "c8a17bb2",
   "metadata": {},
   "outputs": [
    {
     "data": {
      "text/plain": [
       "17"
      ]
     },
     "execution_count": 13,
     "metadata": {},
     "output_type": "execute_result"
    }
   ],
   "source": [
    "len(rotatE_top50)"
   ]
  },
  {
   "cell_type": "markdown",
   "id": "a443a7f6",
   "metadata": {},
   "source": [
    "## TransE 和 RotatE 结果重叠情况"
   ]
  },
  {
   "cell_type": "code",
   "execution_count": 14,
   "id": "9e3f9776",
   "metadata": {},
   "outputs": [
    {
     "data": {
      "text/plain": [
       "set()"
      ]
     },
     "execution_count": 14,
     "metadata": {},
     "output_type": "execute_result"
    }
   ],
   "source": [
    "overlap = set(transE_l1_top50).intersection(set(transE_l2_top50)).intersection(set(ComplEx_top50)).intersection(set(rotatE_top50))\n",
    "overlap"
   ]
  },
  {
   "cell_type": "code",
   "execution_count": 15,
   "id": "fe1d3164",
   "metadata": {},
   "outputs": [
    {
     "data": {
      "text/plain": [
       "0"
      ]
     },
     "execution_count": 15,
     "metadata": {},
     "output_type": "execute_result"
    }
   ],
   "source": [
    "len(overlap)"
   ]
  },
  {
   "cell_type": "code",
   "execution_count": 16,
   "id": "346ff98c",
   "metadata": {},
   "outputs": [
    {
     "data": {
      "text/plain": [
       "{'Compound::DB00143',\n",
       " 'Compound::DB00295',\n",
       " 'Compound::DB00363',\n",
       " 'Compound::DB00477',\n",
       " 'Compound::DB00624',\n",
       " 'Compound::DB00661',\n",
       " 'Compound::DB00783',\n",
       " 'Compound::DB00907',\n",
       " 'Compound::DB04216',\n",
       " 'Compound::DB04540',\n",
       " 'Compound::DB09341'}"
      ]
     },
     "execution_count": 16,
     "metadata": {},
     "output_type": "execute_result"
    }
   ],
   "source": [
    "overlap_1_2 = set(transE_l1_top50).intersection(set(transE_l2_top50))\n",
    "overlap_1_2"
   ]
  },
  {
   "cell_type": "code",
   "execution_count": 17,
   "id": "bbc8d2df",
   "metadata": {},
   "outputs": [
    {
     "data": {
      "text/plain": [
       "{'Compound::DB00563', 'Compound::DB00661'}"
      ]
     },
     "execution_count": 17,
     "metadata": {},
     "output_type": "execute_result"
    }
   ],
   "source": [
    "overlap_1_3 = set(transE_l1_top50).intersection(set(ComplEx_top50))\n",
    "overlap_1_3"
   ]
  },
  {
   "cell_type": "code",
   "execution_count": 18,
   "id": "00382bef",
   "metadata": {},
   "outputs": [
    {
     "data": {
      "text/plain": [
       "{'Compound::DB00143',\n",
       " 'Compound::DB00783',\n",
       " 'Compound::DB00907',\n",
       " 'Compound::DB04216',\n",
       " 'Compound::DB04540',\n",
       " 'Compound::DB06774',\n",
       " 'Compound::DB09341'}"
      ]
     },
     "execution_count": 18,
     "metadata": {},
     "output_type": "execute_result"
    }
   ],
   "source": [
    "overlap_1_4 = set(transE_l1_top50).intersection(set(rotatE_top50))\n",
    "overlap_1_4"
   ]
  },
  {
   "cell_type": "code",
   "execution_count": 19,
   "id": "1d499f4d",
   "metadata": {},
   "outputs": [
    {
     "data": {
      "text/plain": [
       "{'Compound::DB00661', 'Compound::DB00959'}"
      ]
     },
     "execution_count": 19,
     "metadata": {},
     "output_type": "execute_result"
    }
   ],
   "source": [
    "overlap_2_3 = set(transE_l2_top50).intersection(set(ComplEx_top50))\n",
    "overlap_2_3"
   ]
  },
  {
   "cell_type": "code",
   "execution_count": 20,
   "id": "c238b8f6",
   "metadata": {},
   "outputs": [
    {
     "data": {
      "text/plain": [
       "{'Compound::DB00143',\n",
       " 'Compound::DB00502',\n",
       " 'Compound::DB00783',\n",
       " 'Compound::DB00907',\n",
       " 'Compound::DB01229',\n",
       " 'Compound::DB04216',\n",
       " 'Compound::DB04540',\n",
       " 'Compound::DB09341'}"
      ]
     },
     "execution_count": 20,
     "metadata": {},
     "output_type": "execute_result"
    }
   ],
   "source": [
    "overlap_2_4 = set(transE_l2_top50).intersection(set(rotatE_top50))\n",
    "overlap_2_4"
   ]
  },
  {
   "cell_type": "code",
   "execution_count": 21,
   "id": "79ada680",
   "metadata": {},
   "outputs": [
    {
     "data": {
      "text/plain": [
       "{'Compound::DB00715'}"
      ]
     },
     "execution_count": 21,
     "metadata": {},
     "output_type": "execute_result"
    }
   ],
   "source": [
    "overlap_3_4 = set(ComplEx_top50).intersection(set(rotatE_top50))\n",
    "overlap_3_4"
   ]
  },
  {
   "cell_type": "code",
   "execution_count": 22,
   "id": "d6f4c1a2",
   "metadata": {},
   "outputs": [
    {
     "data": {
      "text/plain": [
       "{'Compound::DB00661'}"
      ]
     },
     "execution_count": 22,
     "metadata": {},
     "output_type": "execute_result"
    }
   ],
   "source": [
    "overlap_1_2_3 = set(transE_l1_top50).intersection(set(transE_l2_top50)).intersection(set(ComplEx_top50))\n",
    "overlap_1_2_3"
   ]
  },
  {
   "cell_type": "code",
   "execution_count": 23,
   "id": "7fc05cec",
   "metadata": {},
   "outputs": [
    {
     "data": {
      "text/plain": [
       "{'Compound::DB00143',\n",
       " 'Compound::DB00783',\n",
       " 'Compound::DB00907',\n",
       " 'Compound::DB04216',\n",
       " 'Compound::DB04540',\n",
       " 'Compound::DB09341'}"
      ]
     },
     "execution_count": 23,
     "metadata": {},
     "output_type": "execute_result"
    }
   ],
   "source": [
    "overlap_1_2_4 = set(transE_l1_top50).intersection(set(transE_l2_top50)).intersection(set(rotatE_top50))\n",
    "overlap_1_2_4"
   ]
  },
  {
   "cell_type": "code",
   "execution_count": 24,
   "id": "3a3e2dfe",
   "metadata": {},
   "outputs": [
    {
     "data": {
      "text/plain": [
       "set()"
      ]
     },
     "execution_count": 24,
     "metadata": {},
     "output_type": "execute_result"
    }
   ],
   "source": [
    "overlap_1_3_4 = set(transE_l1_top50).intersection(set(ComplEx_top50)).intersection(set(rotatE_top50))\n",
    "overlap_1_3_4"
   ]
  },
  {
   "cell_type": "code",
   "execution_count": 25,
   "id": "90ca198b",
   "metadata": {},
   "outputs": [
    {
     "data": {
      "text/plain": [
       "set()"
      ]
     },
     "execution_count": 25,
     "metadata": {},
     "output_type": "execute_result"
    }
   ],
   "source": [
    "overlap_2_3_4 = set(transE_l2_top50).intersection(set(ComplEx_top50)).intersection(set(rotatE_top50))\n",
    "overlap_2_3_4"
   ]
  },
  {
   "cell_type": "code",
   "execution_count": 26,
   "id": "4a0a5bf2",
   "metadata": {},
   "outputs": [
    {
     "data": {
      "text/plain": [
       "set()"
      ]
     },
     "execution_count": 26,
     "metadata": {},
     "output_type": "execute_result"
    }
   ],
   "source": [
    "overlap = set(transE_l1_top50).intersection(set(transE_l2_top50)).intersection(set(ComplEx_top50)).intersection(set(rotatE_top50))\n",
    "overlap"
   ]
  }
 ],
 "metadata": {
  "kernelspec": {
   "display_name": "Python 3 (ipykernel)",
   "language": "python",
   "name": "python3"
  },
  "language_info": {
   "codemirror_mode": {
    "name": "ipython",
    "version": 3
   },
   "file_extension": ".py",
   "mimetype": "text/x-python",
   "name": "python",
   "nbconvert_exporter": "python",
   "pygments_lexer": "ipython3",
   "version": "3.8.16"
  }
 },
 "nbformat": 4,
 "nbformat_minor": 5
}

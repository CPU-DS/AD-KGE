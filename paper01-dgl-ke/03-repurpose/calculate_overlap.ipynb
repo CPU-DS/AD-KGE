{
 "cells": [
  {
   "cell_type": "code",
   "execution_count": 1,
   "id": "df7ba911",
   "metadata": {},
   "outputs": [],
   "source": [
    "import csv\n",
    "\n",
    "transE_top50 = []\n",
    "with open(\"./transE_top50.csv\", newline='', encoding='utf-8') as csvfile:\n",
    "    reader = csv.DictReader(csvfile, delimiter=',', fieldnames=['rank', 'drug', 'score'])\n",
    "    for row_val in reader:\n",
    "        transE_top50.append(row_val['drug'])"
   ]
  },
  {
   "cell_type": "code",
   "execution_count": 2,
   "id": "52d0958a",
   "metadata": {},
   "outputs": [
    {
     "data": {
      "text/plain": [
       "['Compound::DB04540',\n",
       " 'Compound::DB01224',\n",
       " 'Compound::DB00295',\n",
       " 'Compound::DB00515',\n",
       " 'Compound::DB09341',\n",
       " 'Compound::DB00143',\n",
       " 'Compound::DB04216',\n",
       " 'Compound::DB00907',\n",
       " 'Compound::DB06774',\n",
       " 'Compound::DB00171',\n",
       " 'Compound::DB00624',\n",
       " 'Compound::DB02527',\n",
       " 'Compound::DB00783',\n",
       " 'Compound::DB00997',\n",
       " 'Compound::DB00563',\n",
       " 'Compound::DB00363',\n",
       " 'Compound::DB00661',\n",
       " 'Compound::DB04630',\n",
       " 'Compound::DB04652',\n",
       " 'Compound::DB00502',\n",
       " 'Compound::DB00477',\n",
       " 'Compound::DB01233',\n",
       " 'Compound::DB01229',\n",
       " 'Compound::DB00755',\n",
       " 'Compound::DB00640']"
      ]
     },
     "execution_count": 2,
     "metadata": {},
     "output_type": "execute_result"
    }
   ],
   "source": [
    "transE_top50"
   ]
  },
  {
   "cell_type": "code",
   "execution_count": 3,
   "id": "f032c7c5",
   "metadata": {},
   "outputs": [
    {
     "data": {
      "text/plain": [
       "25"
      ]
     },
     "execution_count": 3,
     "metadata": {},
     "output_type": "execute_result"
    }
   ],
   "source": [
    "len(transE_top50)"
   ]
  },
  {
   "cell_type": "code",
   "execution_count": 4,
   "id": "3db6591f",
   "metadata": {},
   "outputs": [],
   "source": [
    "rotatE_top50 = []\n",
    "with open(\"./rotatE_top50.csv\", newline='', encoding='utf-8') as csvfile:\n",
    "    reader = csv.DictReader(csvfile, delimiter=',', fieldnames=['rank', 'drug', 'score'])\n",
    "    for row_val in reader:\n",
    "        rotatE_top50.append(row_val['drug'])"
   ]
  },
  {
   "cell_type": "code",
   "execution_count": 5,
   "id": "1de4a648",
   "metadata": {},
   "outputs": [
    {
     "data": {
      "text/plain": [
       "['Compound::DB00143',\n",
       " 'Compound::DB00502',\n",
       " 'Compound::DB06774',\n",
       " 'Compound::DB04216',\n",
       " 'Compound::DB00783',\n",
       " 'Compound::DB09341',\n",
       " 'Compound::DB00822',\n",
       " 'Compound::DB00640',\n",
       " 'Compound::DB01105',\n",
       " 'Compound::DB00715',\n",
       " 'Compound::DB00907',\n",
       " 'Compound::DB01229',\n",
       " 'Compound::DB04540',\n",
       " 'Compound::DB01016',\n",
       " 'Compound::DB02010',\n",
       " 'Compound::DB14681',\n",
       " 'Compound::DB00321']"
      ]
     },
     "execution_count": 5,
     "metadata": {},
     "output_type": "execute_result"
    }
   ],
   "source": [
    "rotatE_top50"
   ]
  },
  {
   "cell_type": "code",
   "execution_count": 6,
   "id": "c8a17bb2",
   "metadata": {},
   "outputs": [
    {
     "data": {
      "text/plain": [
       "17"
      ]
     },
     "execution_count": 6,
     "metadata": {},
     "output_type": "execute_result"
    }
   ],
   "source": [
    "len(rotatE_top50)"
   ]
  },
  {
   "cell_type": "code",
   "execution_count": 7,
   "id": "fe1d3164",
   "metadata": {},
   "outputs": [
    {
     "data": {
      "text/plain": [
       "10"
      ]
     },
     "execution_count": 7,
     "metadata": {},
     "output_type": "execute_result"
    }
   ],
   "source": [
    "len(set(transE_top50).intersection(set(rotatE_top50)))"
   ]
  },
  {
   "cell_type": "code",
   "execution_count": null,
   "id": "9e3f9776",
   "metadata": {},
   "outputs": [],
   "source": []
  }
 ],
 "metadata": {
  "kernelspec": {
   "display_name": "Python 3 (ipykernel)",
   "language": "python",
   "name": "python3"
  },
  "language_info": {
   "codemirror_mode": {
    "name": "ipython",
    "version": 3
   },
   "file_extension": ".py",
   "mimetype": "text/x-python",
   "name": "python",
   "nbconvert_exporter": "python",
   "pygments_lexer": "ipython3",
   "version": "3.8.16"
  }
 },
 "nbformat": 4,
 "nbformat_minor": 5
}

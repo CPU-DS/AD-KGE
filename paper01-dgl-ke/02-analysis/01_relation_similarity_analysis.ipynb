{
 "cells": [
  {
   "cell_type": "code",
   "execution_count": 1,
   "metadata": {},
   "outputs": [],
   "source": [
    "# 01_relation_similarity_analysis\n",
    "#\n",
    "# created by LuYF-Lemon-love <luyanfeng_nlp@qq.com> on March 4, 2023\n",
    "# updated by LuYF-Lemon-love <luyanfeng_nlp@qq.com> on March 4, 2023\n",
    "#\n",
    "# 该脚本展示了如何分析训练的关系嵌入.\n",
    "#\n",
    "# 需要的包:\n",
    "#          numpy\n",
    "#          csv\n",
    "#          matplotlib\n",
    "#          sklearn\n",
    "#\n",
    "# 需要的文件:\n",
    "#          ../01-model/ckpts/RotatE_All_DRKG_0/All_DRKG_RotatE_relation.npy\n",
    "#          ../../data/drkg/relations.tsv\n",
    "#\n",
    "# 源教程链接: https://github.com/gnn4dr/DRKG/blob/master/embedding_analysis/Relation_similarity_analysis.ipynb"
   ]
  },
  {
   "cell_type": "markdown",
   "metadata": {},
   "source": [
    "# DRKG Relation Embedding Similarity Analysis\n",
    " \n",
    "这个 notebook 展示了如何分析训练的关系嵌入.\n",
    "\n",
    "在这个例子中, 我们首先加载训练的嵌入向量, 然后将它们映射回原始的关系名, 最后应用两种方法分析它们:\n",
    "\n",
    "- 投射嵌入进入低维空间并可视化它们的分布.\n",
    "- 使用余弦距离分析关系间的相似程度."
   ]
  },
  {
   "cell_type": "code",
   "execution_count": 2,
   "metadata": {},
   "outputs": [],
   "source": [
    "import numpy as np\n",
    "import csv\n",
    "import sklearn\n",
    "import matplotlib.pyplot as plt\n",
    "from sklearn.manifold import TSNE"
   ]
  },
  {
   "cell_type": "code",
   "execution_count": 3,
   "metadata": {},
   "outputs": [],
   "source": [
    "!mkdir -p ./result"
   ]
  },
  {
   "cell_type": "markdown",
   "metadata": {},
   "source": [
    "## Loading Relation ID Mapping"
   ]
  },
  {
   "cell_type": "code",
   "execution_count": 4,
   "metadata": {},
   "outputs": [
    {
     "name": "stdout",
     "output_type": "stream",
     "text": [
      "Number of relations: 107\n"
     ]
    }
   ],
   "source": [
    "rel2id = {}\n",
    "id2rel = {}\n",
    "\n",
    "with open(\"../../data/drkg/relations.tsv\", newline = '', encoding = 'utf-8') as csvfile:\n",
    "    reader = csv.DictReader(csvfile, delimiter='\\t', fieldnames=['id','rel'])\n",
    "    for row_val in reader:\n",
    "        id = row_val['id']\n",
    "        relation = row_val['rel']\n",
    "\n",
    "        rel2id[relation] = int(id)\n",
    "        id2rel[int(id)] = relation\n",
    "\n",
    "print(\"Number of relations: {}\".format(len(rel2id)))"
   ]
  },
  {
   "cell_type": "markdown",
   "metadata": {},
   "source": [
    "## Loading Relation Embeddings"
   ]
  },
  {
   "cell_type": "code",
   "execution_count": 5,
   "metadata": {},
   "outputs": [
    {
     "name": "stdout",
     "output_type": "stream",
     "text": [
      "(107, 200)\n"
     ]
    }
   ],
   "source": [
    "rel_emb = np.load('../01-model/ckpts/RotatE_All_DRKG_0/All_DRKG_RotatE_relation.npy')\n",
    "print(rel_emb.shape)"
   ]
  },
  {
   "cell_type": "markdown",
   "metadata": {},
   "source": [
    "## General Relation Embedding Clustering\n",
    "\n",
    "这里我们使用 t-SNE 将关系嵌入降维, 然后可视化它们的分布."
   ]
  },
  {
   "cell_type": "code",
   "execution_count": 6,
   "metadata": {},
   "outputs": [
    {
     "data": {
      "image/png": "[encoded data removed]",
      "text/plain": [
       "<Figure size 640x480 with 1 Axes>"
      ]
     },
     "metadata": {},
     "output_type": "display_data"
    }
   ],
   "source": [
    "# 将关系按照源数据集分类\n",
    "dataset_id = {}\n",
    "for rel_name, i in rel2id.items():\n",
    "    rel_key = rel_name.split('::')[0]\n",
    "    if dataset_id.get(rel_key, None) is None:\n",
    "        dataset_id[rel_key] = []\n",
    "    dataset_id[rel_key].append(i)\n",
    "\n",
    "# 降维并转置\n",
    "X_embedded = TSNE(n_components=2).fit_transform(rel_emb).T\n",
    "\n",
    "# 绘制\n",
    "fig = plt.figure()\n",
    "ax = fig.add_subplot(111)\n",
    "\n",
    "for key, val in dataset_id.items():\n",
    "    val = np.asarray(val, dtype=int)\n",
    "    ax.plot(X_embedded[0][val], X_embedded[1][val], '.', label=key)\n",
    "\n",
    "lgd = ax.legend(bbox_to_anchor=(1.0, 1.0))\n",
    "plt.savefig('./result/relation.svg', bbox_extra_artists=(lgd,), bbox_inches='tight', format='svg')"
   ]
  },
  {
   "cell_type": "markdown",
   "metadata": {},
   "source": [
    "## Pair-wise Relation Embedding Cosine Similarity\n",
    "\n",
    "我们使用余弦距离计算成对的嵌入相似度, 然后输出最相似的 10 对."
   ]
  },
  {
   "cell_type": "code",
   "execution_count": 7,
   "metadata": {},
   "outputs": [
    {
     "data": {
      "text/plain": [
       "[('Hetionet::DaG::Disease:Gene',\n",
       "  'INTACT::ASSOCIATION::Compound:Gene',\n",
       "  0.23346853),\n",
       " ('DRUGBANK::x-atc::Compound:Atc', 'GNBR::in_tax::Gene:Tax', 0.23311995),\n",
       " ('GNBR::L::Gene:Disease', 'Hetionet::DpS::Disease:Symptom', 0.22690767),\n",
       " ('DGIDB::BLOCKER::Gene:Compound', 'GNBR::J::Gene:Disease', 0.2268842),\n",
       " ('DGIDB::AGONIST::Gene:Compound',\n",
       "  'INTACT::ASSOCIATION::Compound:Gene',\n",
       "  0.22258793),\n",
       " ('DRUGBANK::enzyme::Compound:Gene', 'GNBR::Ud::Gene:Disease', 0.21916792),\n",
       " ('Hetionet::DpS::Disease:Symptom',\n",
       "  'Hetionet::CbG::Compound:Gene',\n",
       "  0.21718228),\n",
       " ('GNBR::N::Compound:Gene', 'Hetionet::GcG::Gene:Gene', 0.21505778),\n",
       " ('GNBR::W::Gene:Gene', 'Hetionet::CdG::Compound:Gene', 0.21384156),\n",
       " ('GNBR::Z::Compound:Gene', 'GNBR::in_tax::Gene:Tax', 0.21150547)]"
      ]
     },
     "execution_count": 7,
     "metadata": {},
     "output_type": "execute_result"
    }
   ],
   "source": [
    "# 计算余弦相似度\n",
    "similarity = sklearn.metrics.pairwise.cosine_similarity(rel_emb)\n",
    "\n",
    "# 在每一行上, 利用相似度将元素 Index 按降序排列\n",
    "idx = np.flip(np.argsort(similarity), axis = 1)\n",
    "\n",
    "max_pairs = []\n",
    "for i in range(idx.shape[0]):\n",
    "    j = 1\n",
    "    while (similarity[i][idx[i][j]] > 0):\n",
    "        max_pairs.append((id2rel[idx[i][0]], id2rel[idx[i][j]], similarity[i][idx[i][j]]))\n",
    "        j += 1\n",
    "\n",
    "def sort_score(pair):\n",
    "    return pair[2]\n",
    "\n",
    "# 按照 score 降序 \n",
    "max_pairs.sort(reverse=True, key = sort_score)\n",
    "\n",
    "sim_pairs = []\n",
    "for i, pair in enumerate(max_pairs):\n",
    "    # 相似度矩阵是对称的, 因此有两个 score 完全一样的记录\n",
    "    if i % 2 == 0:\n",
    "        sim_pairs.append(pair)\n",
    "\n",
    "# 输出 top 10\n",
    "sim_pairs[:10]"
   ]
  },
  {
   "cell_type": "markdown",
   "metadata": {},
   "source": [
    "然后, 我们绘制了成对相似度得分分布的直方图."
   ]
  },
  {
   "cell_type": "code",
   "execution_count": 8,
   "metadata": {},
   "outputs": [
    {
     "name": "stdout",
     "output_type": "stream",
     "text": [
      "(11449,)\n"
     ]
    },
    {
     "data": {
      "image/png": "[encoded data removed]",
      "text/plain": [
       "<Figure size 640x480 with 1 Axes>"
      ]
     },
     "metadata": {},
     "output_type": "display_data"
    }
   ],
   "source": [
    "# 将相似度矩阵平铺\n",
    "similarity = similarity.flatten()\n",
    "print(similarity.shape)\n",
    "\n",
    "# 清除 self-compare 和 dup-compare\n",
    "s = similarity < 0.99\n",
    "s = np.unique(similarity[s])\n",
    "\n",
    "plt.xlabel('Cosine similarity')\n",
    "plt.ylabel('Number of relation pairs')\n",
    "plt.hist(s)\n",
    "plt.savefig('./result/relation-sim.svg', format='svg')"
   ]
  }
 ],
 "metadata": {
  "kernelspec": {
   "display_name": "Python 3 (ipykernel)",
   "language": "python",
   "name": "python3"
  },
  "language_info": {
   "codemirror_mode": {
    "name": "ipython",
    "version": 3
   },
   "file_extension": ".py",
   "mimetype": "text/x-python",
   "name": "python",
   "nbconvert_exporter": "python",
   "pygments_lexer": "ipython3",
   "version": "3.8.16"
  }
 },
 "nbformat": 4,
 "nbformat_minor": 2
}

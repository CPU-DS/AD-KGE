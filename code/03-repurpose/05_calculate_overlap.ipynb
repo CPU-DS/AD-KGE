{
 "cells": [
  {
   "cell_type": "code",
   "execution_count": 1,
   "id": "43cdda6f",
   "metadata": {},
   "outputs": [],
   "source": [
    "# 05_calculate_overlap\n",
    "#\n",
    "# created by LuYF-Lemon-love <luyanfeng_nlp@qq.com> on March 5, 2023\n",
    "# updated by LuYF-Lemon-love <luyanfeng_nlp@qq.com> on March 5, 2023\n",
    "#\n",
    "# 该脚本计算了两个预训练模型 (TransE 和 RotatE) 药物重定位 (Alzheimer's disease) 结果重叠情况.\n",
    "#\n",
    "# 需要的包:\n",
    "#          csv\n",
    "#\n",
    "# 需要的文件:\n",
    "#          ./results/01_transE_top50.csv\n",
    "#          ./results/02_rotatE_top50.csv"
   ]
  },
  {
   "cell_type": "markdown",
   "id": "a046a1dc",
   "metadata": {},
   "source": [
    "## TransE top50 结果"
   ]
  },
  {
   "cell_type": "code",
   "execution_count": 2,
   "id": "df7ba911",
   "metadata": {},
   "outputs": [],
   "source": [
    "import csv\n",
    "\n",
    "transE_top50 = []\n",
    "with open(\"./results/01_transE_top50.csv\", newline='', encoding='utf-8') as csvfile:\n",
    "    reader = csv.DictReader(csvfile, delimiter=',', fieldnames=['rank', 'drug', 'score'])\n",
    "    for row_val in reader:\n",
    "        transE_top50.append(row_val['drug'])"
   ]
  },
  {
   "cell_type": "code",
   "execution_count": 3,
   "id": "52d0958a",
   "metadata": {},
   "outputs": [
    {
     "data": {
      "text/plain": [
       "['Compound::DB04540',\n",
       " 'Compound::DB01224',\n",
       " 'Compound::DB00295',\n",
       " 'Compound::DB00515',\n",
       " 'Compound::DB09341',\n",
       " 'Compound::DB00143',\n",
       " 'Compound::DB04216',\n",
       " 'Compound::DB00907',\n",
       " 'Compound::DB06774',\n",
       " 'Compound::DB00171',\n",
       " 'Compound::DB00624',\n",
       " 'Compound::DB02527',\n",
       " 'Compound::DB00783',\n",
       " 'Compound::DB00997',\n",
       " 'Compound::DB00563',\n",
       " 'Compound::DB00363',\n",
       " 'Compound::DB00661',\n",
       " 'Compound::DB04630',\n",
       " 'Compound::DB04652',\n",
       " 'Compound::DB00502',\n",
       " 'Compound::DB00477',\n",
       " 'Compound::DB01233',\n",
       " 'Compound::DB01229',\n",
       " 'Compound::DB00755',\n",
       " 'Compound::DB00640']"
      ]
     },
     "execution_count": 3,
     "metadata": {},
     "output_type": "execute_result"
    }
   ],
   "source": [
    "transE_top50"
   ]
  },
  {
   "cell_type": "code",
   "execution_count": 4,
   "id": "f032c7c5",
   "metadata": {},
   "outputs": [
    {
     "data": {
      "text/plain": [
       "25"
      ]
     },
     "execution_count": 4,
     "metadata": {},
     "output_type": "execute_result"
    }
   ],
   "source": [
    "len(transE_top50)"
   ]
  },
  {
   "cell_type": "markdown",
   "id": "65fecf33",
   "metadata": {},
   "source": [
    "## RotatE top50 结果"
   ]
  },
  {
   "cell_type": "code",
   "execution_count": 5,
   "id": "3db6591f",
   "metadata": {},
   "outputs": [],
   "source": [
    "rotatE_top50 = []\n",
    "rotatE_top50_ranks = []\n",
    "with open(\"./results/02_rotatE_top50.csv\", newline='', encoding='utf-8') as csvfile:\n",
    "    reader = csv.DictReader(csvfile, delimiter=',', fieldnames=['rank', 'drug', 'score'])\n",
    "    for row_val in reader:\n",
    "        rotatE_top50_ranks.append(row_val['rank'])\n",
    "        rotatE_top50.append(row_val['drug'])"
   ]
  },
  {
   "cell_type": "code",
   "execution_count": 6,
   "id": "1de4a648",
   "metadata": {},
   "outputs": [
    {
     "data": {
      "text/plain": [
       "['Compound::DB00143',\n",
       " 'Compound::DB00502',\n",
       " 'Compound::DB06774',\n",
       " 'Compound::DB04216',\n",
       " 'Compound::DB00783',\n",
       " 'Compound::DB09341',\n",
       " 'Compound::DB00822',\n",
       " 'Compound::DB00640',\n",
       " 'Compound::DB01105',\n",
       " 'Compound::DB00715',\n",
       " 'Compound::DB00907',\n",
       " 'Compound::DB01229',\n",
       " 'Compound::DB04540',\n",
       " 'Compound::DB01016',\n",
       " 'Compound::DB02010',\n",
       " 'Compound::DB14681',\n",
       " 'Compound::DB00321']"
      ]
     },
     "execution_count": 6,
     "metadata": {},
     "output_type": "execute_result"
    }
   ],
   "source": [
    "rotatE_top50"
   ]
  },
  {
   "cell_type": "code",
   "execution_count": 7,
   "id": "c8a17bb2",
   "metadata": {},
   "outputs": [
    {
     "data": {
      "text/plain": [
       "17"
      ]
     },
     "execution_count": 7,
     "metadata": {},
     "output_type": "execute_result"
    }
   ],
   "source": [
    "len(rotatE_top50)"
   ]
  },
  {
   "cell_type": "markdown",
   "id": "a443a7f6",
   "metadata": {},
   "source": [
    "## TransE 和 RotatE 结果重叠情况"
   ]
  },
  {
   "cell_type": "code",
   "execution_count": 8,
   "id": "9e3f9776",
   "metadata": {},
   "outputs": [
    {
     "data": {
      "text/plain": [
       "{'Compound::DB00143',\n",
       " 'Compound::DB00502',\n",
       " 'Compound::DB00640',\n",
       " 'Compound::DB00783',\n",
       " 'Compound::DB00907',\n",
       " 'Compound::DB01229',\n",
       " 'Compound::DB04216',\n",
       " 'Compound::DB04540',\n",
       " 'Compound::DB06774',\n",
       " 'Compound::DB09341'}"
      ]
     },
     "execution_count": 8,
     "metadata": {},
     "output_type": "execute_result"
    }
   ],
   "source": [
    "overlap = set(transE_top50).intersection(set(rotatE_top50))\n",
    "overlap"
   ]
  },
  {
   "cell_type": "code",
   "execution_count": 9,
   "id": "fe1d3164",
   "metadata": {},
   "outputs": [
    {
     "data": {
      "text/plain": [
       "10"
      ]
     },
     "execution_count": 9,
     "metadata": {},
     "output_type": "execute_result"
    }
   ],
   "source": [
    "len(overlap)"
   ]
  },
  {
   "cell_type": "markdown",
   "id": "10262ed7",
   "metadata": {},
   "source": [
    "## 重叠药物在 RotatE 结果中的排名"
   ]
  },
  {
   "cell_type": "code",
   "execution_count": 10,
   "id": "204f7ce9",
   "metadata": {},
   "outputs": [
    {
     "name": "stdout",
     "output_type": "stream",
     "text": [
      "[9]\tCompound::DB00143\n",
      "[11]\tCompound::DB00502\n",
      "[13]\tCompound::DB06774\n",
      "[16]\tCompound::DB04216\n",
      "[17]\tCompound::DB00783\n",
      "[18]\tCompound::DB09341\n",
      "[21]\tCompound::DB00640\n",
      "[31]\tCompound::DB00907\n",
      "[39]\tCompound::DB01229\n",
      "[41]\tCompound::DB04540\n"
     ]
    }
   ],
   "source": [
    "for i in range(len(rotatE_top50)):\n",
    "    if rotatE_top50[i] in overlap:\n",
    "        print(f\"{rotatE_top50_ranks[i]}\\t{rotatE_top50[i]}\")"
   ]
  }
 ],
 "metadata": {
  "kernelspec": {
   "display_name": "Python 3 (ipykernel)",
   "language": "python",
   "name": "python3"
  },
  "language_info": {
   "codemirror_mode": {
    "name": "ipython",
    "version": 3
   },
   "file_extension": ".py",
   "mimetype": "text/x-python",
   "name": "python",
   "nbconvert_exporter": "python",
   "pygments_lexer": "ipython3",
   "version": "3.8.16"
  }
 },
 "nbformat": 4,
 "nbformat_minor": 5
}

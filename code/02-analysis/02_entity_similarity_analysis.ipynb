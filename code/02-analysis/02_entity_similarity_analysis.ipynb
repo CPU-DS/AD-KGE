{
 "cells": [
  {
   "cell_type": "code",
   "execution_count": null,
   "metadata": {},
   "outputs": [],
   "source": [
    "# 02_entity_similarity_analysis\n",
    "#\n",
    "# created by LuYF-Lemon-love <luyanfeng_nlp@qq.com> on March 4, 2023\n",
    "# updated by LuYF-Lemon-love <luyanfeng_nlp@qq.com> on March 4, 2023\n",
    "#\n",
    "# 该脚本展示了如何分析训练的实体嵌入.\n",
    "#\n",
    "# 需要的包:\n",
    "#          numpy\n",
    "#          csv\n",
    "#          matplotlib\n",
    "#          sklearn\n",
    "#          MulticoreTSNE, 安装命令为:\n",
    "#                pip install cmake==3.18.4 -i https://pypi.tuna.tsinghua.edu.cn/simple\n",
    "#                pip install MulticoreTSNE -i https://pypi.tuna.tsinghua.edu.cn/simple\n",
    "#\n",
    "# 需要的文件:\n",
    "#          ../01-model/ckpts/RotatE_All_DRKG_0/All_DRKG_RotatE_entity.npy\n",
    "#          ../../data/drkg/entities.tsv\n",
    "#\n",
    "# 源教程链接: https://github.com/gnn4dr/DRKG/blob/master/embedding_analysis/Entity_similarity_analysis.ipynb"
   ]
  },
  {
   "cell_type": "markdown",
   "metadata": {},
   "source": [
    "# DRKG Entity Embedding Similarity Analysis\n",
    "\n",
    "这个 notebook 展示了如何分析训练的实体嵌入.\n",
    "\n",
    "在这个例子中, 我们首先加载训练的实体嵌入向量, 然后将它们映射回原始的实体名, 最后应用两种方法分析它们:\n",
    "\n",
    "- 投射实体嵌入进入低维空间并可视化它们的分布.\n",
    "\n",
    "- 使用余弦距离分析实体间的相似程度."
   ]
  },
  {
   "cell_type": "code",
   "execution_count": null,
   "metadata": {},
   "outputs": [],
   "source": [
    "import numpy as np\n",
    "import csv\n",
    "import sklearn\n",
    "import matplotlib.pyplot as plt\n",
    "from MulticoreTSNE import MulticoreTSNE as TSNE\n",
    "from sklearn.metrics.pairwise import cosine_similarity"
   ]
  },
  {
   "cell_type": "markdown",
   "metadata": {},
   "source": [
    "## Loading Entity ID Mapping"
   ]
  },
  {
   "cell_type": "code",
   "execution_count": null,
   "metadata": {},
   "outputs": [],
   "source": [
    "entity2id = {}\n",
    "id2entity = {}\n",
    "\n",
    "with open(\"../../data/drkg/entities.tsv\", newline='', encoding='utf-8') as csvfile:\n",
    "    reader = csv.DictReader(csvfile, delimiter='\\t', fieldnames=['id','entity'])\n",
    "    for row_val in reader:\n",
    "        id = row_val['id']\n",
    "        entity = row_val['entity']\n",
    "\n",
    "        entity2id[entity] = int(id)\n",
    "        id2entity[int(id)] = entity\n",
    "\n",
    "print(\"Number of entities: {}\".format(len(entity2id)))"
   ]
  },
  {
   "cell_type": "markdown",
   "metadata": {},
   "source": [
    "## Loading Entity Embeddings"
   ]
  },
  {
   "cell_type": "code",
   "execution_count": null,
   "metadata": {},
   "outputs": [],
   "source": [
    "entity_emb = np.load('../01-model/ckpts/RotatE_All_DRKG_0/All_DRKG_RotatE_entity.npy')\n",
    "print(entity_emb.shape)"
   ]
  },
  {
   "cell_type": "markdown",
   "metadata": {},
   "source": [
    "## General Entity Embedding Clustering\n",
    "\n",
    "这里我们使用 t-SNE 将实体嵌入降维, 然后可视化它们的分布."
   ]
  },
  {
   "cell_type": "code",
   "execution_count": null,
   "metadata": {},
   "outputs": [],
   "source": [
    "# 将实体按照源数据集分类\n",
    "dataset_id = {}\n",
    "for entity_name, i in entity2id.items():\n",
    "    entity_key = entity_name.split('::')[0]\n",
    "    if dataset_id.get(entity_key, None) is None:\n",
    "        dataset_id[entity_key] = []\n",
    "    dataset_id[entity_key].append(i)\n",
    "\n",
    "# 降维并转置\n",
    "X_embedded = TSNE(n_components=2, n_jobs=32).fit_transform(entity_emb).T"
   ]
  },
  {
   "cell_type": "code",
   "execution_count": null,
   "metadata": {},
   "outputs": [],
   "source": [
    "# 绘制\n",
    "fig = plt.figure()\n",
    "ax = fig.add_subplot(111)\n",
    "\n",
    "for key, val in dataset_id.items():\n",
    "    val = np.asarray(val, dtype=int)\n",
    "    ax.plot(X_embedded[0][val], X_embedded[1][val], '.', label=key)\n",
    "\n",
    "lgd = ax.legend(bbox_to_anchor=(1.0, 1.0))\n",
    "plt.savefig('./result/entity.svg', bbox_extra_artists=(lgd,), bbox_inches='tight', format='svg')"
   ]
  }
 ],
 "metadata": {
  "kernelspec": {
   "display_name": "Python 3 (ipykernel)",
   "language": "python",
   "name": "python3"
  },
  "language_info": {
   "codemirror_mode": {
    "name": "ipython",
    "version": 3
   },
   "file_extension": ".py",
   "mimetype": "text/x-python",
   "name": "python",
   "nbconvert_exporter": "python",
   "pygments_lexer": "ipython3",
   "version": "3.8.16"
  }
 },
 "nbformat": 4,
 "nbformat_minor": 2
}
